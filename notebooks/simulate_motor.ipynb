{
 "cells": [
  {
   "cell_type": "markdown",
   "id": "3f9ed416-7bc5-4d13-b235-9e3c0101c8eb",
   "metadata": {},
   "source": [
    "# Simulate an EPICS motor\n",
    "\n",
    "Using two float PVs and a userCalc from the docker container, simulate an EPICS motor with tools from ophyd and apstools.\n",
    "\n",
    "userCalc field | value | meaning\n",
    "---  | ---          | ---\n",
    "A PV | gp:gp:float1 | motor VAL\n",
    "B PV | gp:gp:float2 | motor RBV\n",
    "C    | 0.1          | maximum step size\n",
    "CALC | `MIN(ABS(A-B),C)*(A>B?1:-1)+B` | simulated position (readback)\n",
    "SCAN | 1 second     | update rate (motor speed)\n",
    "OUTN | gp:gp:float2 | output PV name"
   ]
  },
  {
   "cell_type": "code",
   "execution_count": 1,
   "id": "e53c0999-56e2-4a7a-a1ab-647e16e4d140",
   "metadata": {},
   "outputs": [],
   "source": [
    "from apstools.devices import PVPositionerSoftDone\n",
    "from apstools.devices import SwaitRecord\n",
    "\n",
    "import bluesky\n",
    "from bluesky import plans as bp\n",
    "from bluesky import plan_stubs as bps\n",
    "\n",
    "from ophyd import Component\n",
    "from ophyd import EpicsSignal\n",
    "from ophyd import PVPositionerPC\n",
    "\n",
    "import time"
   ]
  },
  {
   "cell_type": "code",
   "execution_count": 2,
   "id": "4411d839-eba4-47ba-9c17-7e7c4d52df22",
   "metadata": {},
   "outputs": [],
   "source": [
    "class SoftMotor(PVPositionerPC):\n",
    "    readback = Component(EpicsSignal, \"gp:float2\")\n",
    "    setpoint = Component(EpicsSignal, \"gp:float1\")"
   ]
  },
  {
   "cell_type": "code",
   "execution_count": 3,
   "id": "78d0bab0-5368-4bb9-9b80-9aaa5fbcc887",
   "metadata": {},
   "outputs": [],
   "source": [
    "motor = SoftMotor(\"gp:\", name=\"motor\")\n",
    "motor.wait_for_connection()"
   ]
  },
  {
   "cell_type": "code",
   "execution_count": 4,
   "id": "3289c9d7-1684-4eca-9e00-ab0d66750649",
   "metadata": {},
   "outputs": [],
   "source": [
    "sim_calc = SwaitRecord(\"gp:userCalc5\", name=\"sim_calc\")\n",
    "sim_calc.wait_for_connection()"
   ]
  },
  {
   "cell_type": "code",
   "execution_count": 5,
   "id": "c8f8d021-931d-46b5-afd8-f40a2641625b",
   "metadata": {},
   "outputs": [],
   "source": [
    "sim_calc.reset()\n",
    "sim_calc\n",
    "sim_calc.channels.A.input_pv.put(motor.setpoint.pvname)\n",
    "sim_calc.channels.B.input_pv.put(motor.readback.pvname)\n",
    "sim_calc.channels.C.input_value.put(0.1)\n",
    "sim_calc.scanning_rate.put(\".1 second\")\n",
    "sim_calc.calculation.put(\"MIN(ABS(A-B),C)*(A>B?1:-1)+B\")\n",
    "sim_calc.output_link_pv.put(motor.readback.pvname)\n",
    "sim_calc.description.put(f\"{motor.name} (simulated)\")"
   ]
  },
  {
   "cell_type": "code",
   "execution_count": 6,
   "id": "271d739b-b809-4cdf-9e40-07bcdfaef20b",
   "metadata": {},
   "outputs": [],
   "source": [
    "sim_calcs_enable = EpicsSignal(\"gp:userCalcEnable\", name=\"sim_calcs_enable\")\n",
    "sim_calcs_enable.wait_for_connection()\n",
    "sim_calcs_enable.put(\"Enable\")"
   ]
  },
  {
   "cell_type": "code",
   "execution_count": 7,
   "id": "aa1da97b-03a1-41b6-ad6b-559fe78de924",
   "metadata": {},
   "outputs": [],
   "source": [
    "motor.setpoint.put(1.5+motor.position)"
   ]
  },
  {
   "cell_type": "code",
   "execution_count": 8,
   "id": "589ef008-e7c4-4da5-86d5-4fcf875f8721",
   "metadata": {},
   "outputs": [],
   "source": [
    "RE = bluesky.RunEngine({})"
   ]
  },
  {
   "cell_type": "code",
   "execution_count": 9,
   "id": "d8850ec9-4913-4cbf-bbbf-cf5a37cb6c27",
   "metadata": {},
   "outputs": [
    {
     "name": "stdout",
     "output_type": "stream",
     "text": [
      "0.009s elapsed\n"
     ]
    }
   ],
   "source": [
    "t0 = time.time()\n",
    "RE(bps.mvr(motor, 2))\n",
    "print(f\"{time.time()-t0:.3f}s elapsed\")"
   ]
  },
  {
   "cell_type": "code",
   "execution_count": 10,
   "id": "20dc0aea-428b-43a0-bc65-b5215f43870a",
   "metadata": {},
   "outputs": [],
   "source": [
    "motor = PVPositionerSoftDone(\"gp:\", readback_pv=\"gp:float2\", setpoint_pv=\"gp:float1\", tolerance=0.001, name=\"motor\")\n",
    "motor.wait_for_connection()"
   ]
  },
  {
   "cell_type": "code",
   "execution_count": 11,
   "id": "34f370e7-3655-4207-aefd-268ce6b7eff1",
   "metadata": {},
   "outputs": [
    {
     "data": {
      "text/plain": [
       "MoveStatus(done=True, pos=motor, elapsed=1.0, success=True, settle_time=0.0)"
      ]
     },
     "execution_count": 11,
     "metadata": {},
     "output_type": "execute_result"
    }
   ],
   "source": [
    "motor.move(1.234)"
   ]
  },
  {
   "cell_type": "code",
   "execution_count": 13,
   "id": "343137d1-b043-402d-a4a3-d2963e60eb4e",
   "metadata": {},
   "outputs": [
    {
     "name": "stdout",
     "output_type": "stream",
     "text": [
      "2.454s elapsed\n"
     ]
    }
   ],
   "source": [
    "t0 = time.time()\n",
    "RE(bps.mv(motor, -motor.position))\n",
    "print(f\"{time.time()-t0:.3f}s elapsed\")"
   ]
  }
 ],
 "metadata": {
  "kernelspec": {
   "display_name": "bluesky_2021_2",
   "language": "python",
   "name": "bluesky_2021_2"
  },
  "language_info": {
   "codemirror_mode": {
    "name": "ipython",
    "version": 3
   },
   "file_extension": ".py",
   "mimetype": "text/x-python",
   "name": "python",
   "nbconvert_exporter": "python",
   "pygments_lexer": "ipython3",
   "version": "3.8.10"
  }
 },
 "nbformat": 4,
 "nbformat_minor": 5
}
